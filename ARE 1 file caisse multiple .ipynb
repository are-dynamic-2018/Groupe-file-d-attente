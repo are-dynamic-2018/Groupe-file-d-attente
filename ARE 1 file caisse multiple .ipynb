{
 "cells": [
  {
   "cell_type": "code",
   "execution_count": 24,
   "metadata": {
    "collapsed": false
   },
   "outputs": [],
   "source": [
    "%matplotlib inline\n",
    "import numpy as np\n",
    "import matplotlib.pyplot as plt"
   ]
  },
  {
   "cell_type": "code",
   "execution_count": 74,
   "metadata": {
    "collapsed": true
   },
   "outputs": [],
   "source": [
    "#variables\n",
    "dt = 10\n",
    "ldt = [10,15,20,30,60]"
   ]
  },
  {
   "cell_type": "code",
   "execution_count": null,
   "metadata": {
    "collapsed": true
   },
   "outputs": [],
   "source": [
    "def listArrivee(tempsMax,dt):\n",
    "    L=[]\n",
    "    t=0\n",
    "    \n",
    "    while t<=tempsMax-dt:\n",
    "        t+=dt\n",
    "        L.append(t)\n",
    "    \n",
    "    return np.array(L)"
   ]
  },
  {
   "cell_type": "code",
   "execution_count": 119,
   "metadata": {
    "collapsed": true
   },
   "outputs": [],
   "source": [
    "def listDepart(tempsMax,dt,offset):\n",
    "    L=[]\n",
    "    t=offset\n",
    "    \n",
    "    while t<=tempsMax+offset-dt:\n",
    "        t+=dt\n",
    "        L.append(t)\n",
    "    \n",
    "    return np.array(L)"
   ]
  },
  {
   "cell_type": "code",
   "execution_count": 111,
   "metadata": {
    "collapsed": false
   },
   "outputs": [],
   "source": [
    "def listArrivee2(tempsMax,ldt):\n",
    "    lp = []\n",
    "    for i in range(len(ldt)):\n",
    "        lp.append(listArrivee(tempsMax,ldt[i]))\n",
    "    return lp"
   ]
  },
  {
   "cell_type": "code",
   "execution_count": 103,
   "metadata": {
    "collapsed": false
   },
   "outputs": [],
   "source": [
    "def plotprocess(p):\n",
    "    x = np.concatenate(([0.0], p))\n",
    "    y = np.arange(0,len(x))\n",
    "    plt.step(x,y,where = \"post\")"
   ]
  },
  {
   "cell_type": "code",
   "execution_count": 104,
   "metadata": {
    "collapsed": true
   },
   "outputs": [],
   "source": [
    "def multiplotprocess(lp):dt\n",
    "    for i in (lp):\n",
    "        plotprocess(i)\n",
    "        \n",
    "   \n",
    "    plt.xlabel(\"time(s)\")\n",
    "    plt.ylabel(\"number of clients\")"
   ]
  },
  {
   "cell_type": "code",
   "execution_count": 114,
   "metadata": {
    "collapsed": false
   },
   "outputs": [],
   "source": [
    "lp = listArrivee2(60*5,ldt)"
   ]
  },
  {
   "cell_type": "code",
   "execution_count": 115,
   "metadata": {
    "collapsed": false
   },
   "outputs": [
    {
     "data": {
      "image/png": "[encoded data removed]",
      "text/plain": [
       "<matplotlib.figure.Figure at 0x7f9c356624e0>"
      ]
     },
     "metadata": {},
     "output_type": "display_data"
    }
   ],
   "source": [
    "multiplotprocess(lp)"
   ]
  },
  {
   "cell_type": "code",
   "execution_count": 154,
   "metadata": {
    "collapsed": false
   },
   "outputs": [],
   "source": [
    "def addProcess(la,ld):\n",
    "    \n",
    "    compteur = 0\n",
    "    lconc = np.concatenate((la,ld))\n",
    "    indice = np.argsort(lconc)\n",
    "    lpers = []\n",
    "    \n",
    "    for i in indice:\n",
    "        \n",
    "        if i<len(la):\n",
    "            compteur += 1\n",
    "            lpers.append((compteur,lconc[i]))\n",
    "        \n",
    "        elif compteur>0:\n",
    "            compteur -= 1\n",
    "            lpers.append((compteur,lconc[i]))\n",
    "    \n",
    "    return lpers\n",
    "        "
   ]
  },
  {
   "cell_type": "code",
   "execution_count": 151,
   "metadata": {
    "collapsed": false
   },
   "outputs": [],
   "source": [
    "L = np.concatenate((listArrivee(60*5,30),listDepart(60*5,30,65)))"
   ]
  },
  {
   "cell_type": "code",
   "execution_count": 152,
   "metadata": {
    "collapsed": false
   },
   "outputs": [
    {
     "data": {
      "text/plain": [
       "array([ 0,  1,  2, 10,  3, 11,  4, 12,  5, 13,  6, 14,  7, 15,  8, 16,  9,\n",
       "       17, 18, 19])"
      ]
     },
     "execution_count": 152,
     "metadata": {},
     "output_type": "execute_result"
    }
   ],
   "source": [
    "np.argsort(L)"
   ]
  },
  {
   "cell_type": "code",
   "execution_count": 160,
   "metadata": {
    "collapsed": false
   },
   "outputs": [
    {
     "data": {
      "text/plain": [
       "array([ 35,  65,  95, 125, 155, 185, 215, 245, 275, 305])"
      ]
     },
     "execution_count": 160,
     "metadata": {},
     "output_type": "execute_result"
    }
   ],
   "source": [
    "listArrivee(60*5,30)\n",
    "listDepart(60*5,30,5)"
   ]
  },
  {
   "cell_type": "code",
   "execution_count": 159,
   "metadata": {
    "collapsed": false
   },
   "outputs": [
    {
     "data": {
      "text/plain": [
       "[(1, 35),\n",
       " (0, 60),\n",
       " (1, 65),\n",
       " (0, 90),\n",
       " (1, 95),\n",
       " (0, 120),\n",
       " (1, 125),\n",
       " (0, 150),\n",
       " (1, 155),\n",
       " (0, 180),\n",
       " (1, 185),\n",
       " (0, 210),\n",
       " (1, 215),\n",
       " (0, 240),\n",
       " (1, 245),\n",
       " (0, 270),\n",
       " (1, 275),\n",
       " (0, 300),\n",
       " (1, 305)]"
      ]
     },
     "execution_count": 159,
     "metadata": {},
     "output_type": "execute_result"
    }
   ],
   "source": [
    "addProcess(listDepart(60*5,30,5),listArrivee(60*5,30))"
   ]
  },
  {
   "cell_type": "code",
   "execution_count": null,
   "metadata": {
    "collapsed": true
   },
   "outputs": [],
   "source": []
  }
 ],
 "metadata": {
  "kernelspec": {
   "display_name": "Python 3",
   "language": "python",
   "name": "python3"
  },
  "language_info": {
   "codemirror_mode": {
    "name": "ipython",
    "version": 3
   },
   "file_extension": ".py",
   "mimetype": "text/x-python",
   "name": "python",
   "nbconvert_exporter": "python",
   "pygments_lexer": "ipython3",
   "version": "3.4.2"
  }
 },
 "nbformat": 4,
 "nbformat_minor": 0
}
