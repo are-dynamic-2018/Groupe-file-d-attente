{
 "cells": [
  {
   "cell_type": "code",
   "execution_count": 83,
   "metadata": {
    "collapsed": true
   },
   "outputs": [],
   "source": [
    "import numpy as np\n",
    "%matplotlib inline\n",
    "\n"
   ]
  },
  {
   "cell_type": "code",
   "execution_count": 84,
   "metadata": {
    "collapsed": true
   },
   "outputs": [],
   "source": [
    "def poisson(tmax,lam):\n",
    "\n",
    "    L=[]\n",
    "    t=0\n",
    "\n",
    "    while True:\n",
    "        t+=np.random.exponential(lam)\n",
    "        if t>=tmax:\n",
    "            break\n",
    "        L.append(t)\n",
    "        \n",
    "    return np.array(L)"
   ]
  },
  {
   "cell_type": "code",
   "execution_count": 184,
   "metadata": {
    "collapsed": false
   },
   "outputs": [],
   "source": [
    "pa1=poisson(60,10)\n",
    "pd1=poisson(60,15)"
   ]
  },
  {
   "cell_type": "code",
   "execution_count": 92,
   "metadata": {
    "collapsed": true
   },
   "outputs": [],
   "source": [
    "def tabPeriodUntil(tempsMax,dt):\n",
    "    \n",
    "    L=[]\n",
    "    t=0\n",
    "    \n",
    "    while t<=tempsMax-dt:\n",
    "        t+=dt\n",
    "        L.append(t)\n",
    "    \n",
    "    return np.array(L)"
   ]
  },
  {
   "cell_type": "code",
   "execution_count": 135,
   "metadata": {
    "collapsed": true
   },
   "outputs": [],
   "source": [
    "pa2 = tabPeriodUntil(60*5,10)\n",
    "pd2 =tabPeriodUntil(60*5,15)"
   ]
  },
  {
   "cell_type": "code",
   "execution_count": 125,
   "metadata": {
    "collapsed": false
   },
   "outputs": [],
   "source": [
    "def plotprocess(p, label=None):\n",
    "    x = np.concatenate(([0.0], p))\n",
    "    y = np.arange(0,len(x))\n",
    "    plt.step(x,y,where = \"post\", label=label)\n",
    "    plt.xlabel(\"time(s)\")\n",
    "    plt.ylabel(\"number of clients\")"
   ]
  },
  {
   "cell_type": "code",
   "execution_count": 134,
   "metadata": {
    "collapsed": false
   },
   "outputs": [
    {
     "data": {
      "image/png": "[encoded data removed]",
      "text/plain": [
       "<matplotlib.figure.Figure at 0x7f31f31b2c18>"
      ]
     },
     "metadata": {},
     "output_type": "display_data"
    }
   ],
   "source": [
    "p1=poisson(60*60,30)\n",
    "p2 = tabPeriodUntil(60*60,30)\n",
    "plotprocess(p1, label=\"poisson\")\n",
    "plotprocess(p2, label=\"periodic\")\n",
    "plt.legend(loc='upper left')\n",
    "plt.show()"
   ]
  },
  {
   "cell_type": "code",
   "execution_count": 188,
   "metadata": {
    "collapsed": false
   },
   "outputs": [
    {
     "data": {
      "text/plain": [
       "(array([  0.85693473,   3.62798533,   4.31110505,  11.05578478,\n",
       "         16.30810884,  20.3719964 ,  34.22078671,  52.90130231]),\n",
       " array([ 10.24966073,  30.77456732]))"
      ]
     },
     "execution_count": 188,
     "metadata": {},
     "output_type": "execute_result"
    }
   ],
   "source": [
    "pa1,pd1\n"
   ]
  },
  {
   "cell_type": "code",
   "execution_count": 189,
   "metadata": {
    "collapsed": true
   },
   "outputs": [],
   "source": [
    "def nb_clients(tmax,lam):\n",
    "    i=0\n",
    "    j=0\n",
    "    a=pa1\n",
    "    b=pd1\n",
    "    clients=0\n",
    "    while i<min(len(a),len(b))-1 or j<min(len(a),len(b))-1:\n",
    "        if a[i]<b[j]:\n",
    "            clients+=1\n",
    "            i=i+1\n",
    "        else:\n",
    "            clients-=1\n",
    "            j=j+1\n",
    "        if clients<0:\n",
    "            clients=0\n",
    "    clients=clients+len(a)-len(b)\n",
    "    \n",
    "    return clients"
   ]
  },
  {
   "cell_type": "code",
   "execution_count": 190,
   "metadata": {
    "collapsed": false
   },
   "outputs": [
    {
     "data": {
      "text/plain": [
       "8"
      ]
     },
     "execution_count": 190,
     "metadata": {},
     "output_type": "execute_result"
    }
   ],
   "source": [
    "nb_clients(60,10)"
   ]
  },
  {
   "cell_type": "code",
   "execution_count": null,
   "metadata": {
    "collapsed": true
   },
   "outputs": [],
   "source": []
  }
 ],
 "metadata": {
  "kernelspec": {
   "display_name": "Python 3",
   "language": "python",
   "name": "python3"
  },
  "language_info": {
   "codemirror_mode": {
    "name": "ipython",
    "version": 3
   },
   "file_extension": ".py",
   "mimetype": "text/x-python",
   "name": "python",
   "nbconvert_exporter": "python",
   "pygments_lexer": "ipython3",
   "version": "3.4.2"
  }
 },
 "nbformat": 4,
 "nbformat_minor": 0
}
