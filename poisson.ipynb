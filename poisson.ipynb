{
 "cells": [
  {
   "cell_type": "code",
   "execution_count": 1,
   "metadata": {
    "collapsed": true
   },
   "outputs": [],
   "source": [
    "%matplotlib inline\n",
    "import numpy as np\n",
    "import matplotlib.pyplot as plt"
   ]
  },
  {
   "cell_type": "code",
   "execution_count": 2,
   "metadata": {
    "collapsed": true
   },
   "outputs": [],
   "source": [
    "def poisson(tmax,lam):\n",
    "\n",
    "    L=[]\n",
    "    t=0\n",
    "\n",
    "    while True:\n",
    "        t+=np.random.exponential(lam)\n",
    "        if t>=tmax:\n",
    "            break\n",
    "        L.append(t)\n",
    "        \n",
    "    return np.array(L)"
   ]
  },
  {
   "cell_type": "code",
   "execution_count": 3,
   "metadata": {
    "collapsed": false
   },
   "outputs": [],
   "source": [
    "pa1=poisson(60,10)\n",
    "pd1=poisson(60,15)"
   ]
  },
  {
   "cell_type": "code",
   "execution_count": 4,
   "metadata": {
    "collapsed": true
   },
   "outputs": [],
   "source": [
    "def tabPeriodUntil(tempsMax,dt):\n",
    "    \n",
    "    L=[]\n",
    "    t=0\n",
    "    \n",
    "    while t<=tempsMax-dt:\n",
    "        t+=dt\n",
    "        L.append(t)\n",
    "    \n",
    "    return np.array(L)"
   ]
  },
  {
   "cell_type": "code",
   "execution_count": 5,
   "metadata": {
    "collapsed": true
   },
   "outputs": [],
   "source": [
    "pa2 = tabPeriodUntil(60*5,10)\n",
    "pd2 =tabPeriodUntil(60*5,15)"
   ]
  },
  {
   "cell_type": "code",
   "execution_count": 6,
   "metadata": {
    "collapsed": false
   },
   "outputs": [],
   "source": [
    "def plotprocess(p, label=None):\n",
    "    x = np.concatenate(([0.0], p))\n",
    "    y = np.arange(0,len(x))\n",
    "    plt.step(x,y,where = \"post\", label=label)\n",
    "    plt.xlabel(\"time(s)\")\n",
    "    plt.ylabel(\"number of clients\")"
   ]
  },
  {
   "cell_type": "code",
   "execution_count": 7,
   "metadata": {
    "collapsed": false
   },
   "outputs": [
    {
     "data": {
      "image/png": "[encoded data removed]",
      "text/plain": [
       "<matplotlib.figure.Figure at 0x7f6249799e48>"
      ]
     },
     "metadata": {},
     "output_type": "display_data"
    }
   ],
   "source": [
    "p1=poisson(60*60,30)\n",
    "p2 = tabPeriodUntil(60*60,30)\n",
    "plotprocess(p1, label=\"poisson\")\n",
    "plotprocess(p2, label=\"periodic\")\n",
    "plt.legend(loc='upper left')\n",
    "plt.show()"
   ]
  },
  {
   "cell_type": "code",
   "execution_count": 8,
   "metadata": {
    "collapsed": false
   },
   "outputs": [
    {
     "data": {
      "text/plain": [
       "(array([  6.54484089,   6.86208659,   8.88315886,  10.67910579,\n",
       "         13.80421448,  22.95681383,  53.18646719]),\n",
       " array([  0.57200621,  12.15566808,  18.57472245,  47.29991689]))"
      ]
     },
     "execution_count": 8,
     "metadata": {},
     "output_type": "execute_result"
    }
   ],
   "source": [
    "pa1,pd1\n"
   ]
  },
  {
   "cell_type": "code",
   "execution_count": 9,
   "metadata": {
    "collapsed": true
   },
   "outputs": [],
   "source": [
    "tmax = 60\n",
    "lama = 10\n",
    "lamd = 15\n",
    "a=poisson(tmax,lama)\n",
    "b=poisson(tmax,lamd)"
   ]
  },
  {
   "cell_type": "code",
   "execution_count": 10,
   "metadata": {
    "collapsed": false
   },
   "outputs": [
    {
     "data": {
      "text/plain": [
       "array([ 14.92121521,  21.61789567,  24.02045797])"
      ]
     },
     "execution_count": 10,
     "metadata": {},
     "output_type": "execute_result"
    }
   ],
   "source": [
    "b"
   ]
  },
  {
   "cell_type": "code",
   "execution_count": 11,
   "metadata": {
    "collapsed": false
   },
   "outputs": [],
   "source": [
    "def nb_clients(tmax,lama,lamd):\n",
    "    i=0\n",
    "    j=0\n",
    "    a=poisson(tmax,lama)\n",
    "    b=poisson(tmax,lamd)\n",
    "    clients=0\n",
    "    L=[]\n",
    "    while i<len(a) and j<len(b):\n",
    "        if a[i]<b[j]:\n",
    "            clients+=1\n",
    "            L.append((clients,a[i]))\n",
    "            i=i+1\n",
    "        else:\n",
    "            if clients > 0:\n",
    "                clients-=1\n",
    "                L.append((clients,b[j]))\n",
    "            j=j+1\n",
    "\n",
    "    clients=clients+len(a)-len(b)\n",
    "    L.append((clients,tmax))\n",
    "    \n",
    "    return L,a,b"
   ]
  },
  {
   "cell_type": "code",
   "execution_count": 12,
   "metadata": {
    "collapsed": false
   },
   "outputs": [
    {
     "data": {
      "text/plain": [
       "([(1, 1.1369117598500316),\n",
       "  (2, 1.8075769795942422),\n",
       "  (3, 11.327790750914271),\n",
       "  (2, 11.867480475905873),\n",
       "  (1, 15.228662326259933),\n",
       "  (0, 17.969220966250287),\n",
       "  (1, 19.404092872072106),\n",
       "  (2, 21.517764869358306),\n",
       "  (1, 21.820632897929634),\n",
       "  (2, 24.311402262861716),\n",
       "  (1, 31.363216808258457),\n",
       "  (2, 31.567918548377779),\n",
       "  (3, 34.38487758206638),\n",
       "  (4, 45.628524469408752),\n",
       "  (3, 46.594657448247098),\n",
       "  (8, 60)],\n",
       " array([  1.13691176,   1.80757698,  11.32779075,  19.40409287,\n",
       "         21.51776487,  24.31140226,  31.56791855,  34.38487758,\n",
       "         45.62852447,  54.62593755,  55.9517951 ]),\n",
       " array([ 11.86748048,  15.22866233,  17.96922097,  21.8206329 ,\n",
       "         31.36321681,  46.59465745]))"
      ]
     },
     "execution_count": 12,
     "metadata": {},
     "output_type": "execute_result"
    }
   ],
   "source": [
    "nb_clients(60,10,15)"
   ]
  },
  {
   "cell_type": "code",
   "execution_count": 13,
   "metadata": {
    "collapsed": false
   },
   "outputs": [],
   "source": [
    "def splitProcess(tmax,lama,lamd,nbpers):\n",
    "    \n",
    "    lTmps = []\n",
    "    lPers = []\n",
    "    bta = False\n",
    "    btd = False\n",
    "    ta = np.random.exponential(lama)\n",
    "    cpt = nbpers\n",
    "   \n",
    "    if nbpers == 0:\n",
    "        td = 0\n",
    "        \n",
    "    else :\n",
    "        td = np.random.exponential(lamd)\n",
    "        \n",
    "    while ta <tmax and td < tmax  :\n",
    "        \n",
    "        \n",
    "        if cpt == 0:\n",
    "            lTmps.append(ta)\n",
    "            cpt+=1\n",
    "            lPers.append(cpt)\n",
    "        \n",
    "        elif ta>td:\n",
    "            lTmps.append(td)\n",
    "            cpt-=1\n",
    "            lPers.append(cpt)\n",
    "            bta = True\n",
    "            \n",
    "        \n",
    "        else:\n",
    "            lTmps.append(ta)\n",
    "            cpt+=1\n",
    "            lPers.append(cpt) \n",
    "            btd = True\n",
    "        \n",
    "        if bta:\n",
    "            td += np.random.exponential(lamd)\n",
    "            bta = False\n",
    "        \n",
    "        if btd:\n",
    "            ta += np.random.exponential(lama)\n",
    "            btd = False\n",
    "                    \n",
    "    return lTmps,lPers   \n",
    "        \n",
    "            \n",
    "    \n",
    "\n",
    "    "
   ]
  },
  {
   "cell_type": "code",
   "execution_count": 14,
   "metadata": {
    "collapsed": false
   },
   "outputs": [
    {
     "data": {
      "text/plain": [
       "([8.037448518948018,\n",
       "  0,\n",
       "  8.037448518948018,\n",
       "  1.411408226118186,\n",
       "  8.037448518948018,\n",
       "  3.1693485418741454,\n",
       "  8.037448518948018,\n",
       "  8.037448518948018,\n",
       "  19.267395716985032,\n",
       "  35.839488671772294,\n",
       "  36.38012619630523,\n",
       "  39.84590380868554,\n",
       "  49.856228183131854,\n",
       "  51.624654571235865],\n",
       " [1, 0, 1, 0, 1, 0, 1, 2, 3, 4, 3, 4, 3, 4])"
      ]
     },
     "execution_count": 14,
     "metadata": {},
     "output_type": "execute_result"
    }
   ],
   "source": [
    "splitProcess(60,10,15,0)   "
   ]
  },
  {
   "cell_type": "code",
   "execution_count": 15,
   "metadata": {
    "collapsed": false
   },
   "outputs": [],
   "source": [
    "def addProcess2(tmax,lama,lamd,nbpers):\n",
    "    \n",
    "    lTmps = []\n",
    "    lPers = []\n",
    "    t = 0.0  # temps du derniere evenement \n",
    "    dta = None\n",
    "    dtd = None\n",
    "    cpt = nbpers\n",
    "\n",
    "    while True:\n",
    "        \n",
    "        if cpt == 0:\n",
    "            if dta is None:\n",
    "                dta = np.random.exponential(lama)\n",
    "            t += dta            \n",
    "            cpt += 1\n",
    "            dta = None\n",
    "        else:\n",
    "            if dta is None:\n",
    "                dta = np.random.exponential(lama)\n",
    "            if dtd is None:\n",
    "                dtd = np.random.exponential(lamd)\n",
    "            \n",
    "            if dta < dtd:\n",
    "                t += dta\n",
    "                dtd -= dta\n",
    "                cpt += 1\n",
    "                dta = None\n",
    "            else:\n",
    "                t += dtd\n",
    "                dta -= dtd\n",
    "                cpt -= 1\n",
    "                dtd = None\n",
    "            \n",
    "        if t > tmax:\n",
    "            break\n",
    "\n",
    "        lTmps.append(t)\n",
    "        lPers.append(cpt)\n",
    "\n",
    "    return lTmps,lPers   "
   ]
  },
  {
   "cell_type": "code",
   "execution_count": 39,
   "metadata": {
    "collapsed": false
   },
   "outputs": [],
   "source": [
    "lt,lp = addProcess2(1800,6,5,0)"
   ]
  },
  {
   "cell_type": "code",
   "execution_count": 31,
   "metadata": {
    "collapsed": true
   },
   "outputs": [],
   "source": [
    "def plotprocess(lt,lp,b):\n",
    "    lt = np.concatenate(([0.0], lt))\n",
    "    lp = np.concatenate(([b], lp))\n",
    "    plt.step(lt,lp,where = \"post\")\n",
    "    plt.xlabel(\"time(s)\")\n",
    "    plt.ylabel(\"number of clients\")"
   ]
  },
  {
   "cell_type": "code",
   "execution_count": 45,
   "metadata": {
    "collapsed": false
   },
   "outputs": [
    {
     "data": {
      "image/png": "[encoded data removed]",
      "text/plain": [
       "<matplotlib.figure.Figure at 0x7f62471680f0>"
      ]
     },
     "metadata": {},
     "output_type": "display_data"
    }
   ],
   "source": [
    "lt,lp = addProcess2(1800,6,5,0)\n",
    "plotprocess(lt,lp,0)"
   ]
  },
  {
   "cell_type": "code",
   "execution_count": null,
   "metadata": {
    "collapsed": true
   },
   "outputs": [],
   "source": [
    "def addProcess_MS(tmax,lama,lamd,nbpers,nbService,l_lamService):\n",
    "    \n",
    "    lTmps = []\n",
    "    lPers = []\n",
    "    t = 0.0  # temps du derniere evenement \n",
    "    dta = None\n",
    "    dtd = None\n",
    "    cpt = nbpers\n",
    "    temps_service = []\n",
    "\n",
    "    while True:\n",
    "        \n",
    "        if cpt == 0:\n",
    "            if dta is None:\n",
    "                dta = np.random.exponential(lama)\n",
    "            t += dta            \n",
    "            cpt += 1\n",
    "            dta = None\n",
    "        else:\n",
    "            if dta is None:\n",
    "                dta = np.random.exponential(lama)\n",
    "            if dtd is None:\n",
    "                dtd = np.random.exponential(lamd)\n",
    "            \n",
    "            if dta < dtd:\n",
    "                t += dta\n",
    "                dtd -= dta\n",
    "                cpt += 1\n",
    "                dta = None\n",
    "            else:\n",
    "                \n",
    "  \n",
    "                t += dtd\n",
    "                dta -= dtd\n",
    "                cpt -= 1\n",
    "                dtd = None\n",
    "            \n",
    "        if t > tmax:\n",
    "            break\n",
    "\n",
    "        lTmps.append(t)\n",
    "        lPers.append(cpt)\n",
    "\n",
    "    return lTmps,lPers   "
   ]
  },
  {
   "cell_type": "code",
   "execution_count": 48,
   "metadata": {
    "collapsed": true
   },
   "outputs": [],
   "source": [
    "def testService(nbService,l_Service):\n",
    "    \n",
    "    ltemps = []\n",
    "    \n",
    "    for i in l_Service:\n",
    "        ltemps.append(np.random.exponential(i))\n",
    "        \n",
    "    np.sort(ltemps)\n",
    "    \n",
    "    return ltemps"
   ]
  },
  {
   "cell_type": "code",
   "execution_count": 49,
   "metadata": {
    "collapsed": true
   },
   "outputs": [],
   "source": [
    "l = testService(2,[5,10])"
   ]
  },
  {
   "cell_type": "code",
   "execution_count": 50,
   "metadata": {
    "collapsed": false
   },
   "outputs": [
    {
     "data": {
      "text/plain": [
       "[4.491131647726963, 6.537829763008483]"
      ]
     },
     "execution_count": 50,
     "metadata": {},
     "output_type": "execute_result"
    }
   ],
   "source": [
    "l"
   ]
  },
  {
   "cell_type": "code",
   "execution_count": null,
   "metadata": {
    "collapsed": true
   },
   "outputs": [],
   "source": []
  }
 ],
 "metadata": {
  "kernelspec": {
   "display_name": "Python 3",
   "language": "python",
   "name": "python3"
  },
  "language_info": {
   "codemirror_mode": {
    "name": "ipython",
    "version": 3
   },
   "file_extension": ".py",
   "mimetype": "text/x-python",
   "name": "python",
   "nbconvert_exporter": "python",
   "pygments_lexer": "ipython3",
   "version": "3.4.2"
  }
 },
 "nbformat": 4,
 "nbformat_minor": 0
}
