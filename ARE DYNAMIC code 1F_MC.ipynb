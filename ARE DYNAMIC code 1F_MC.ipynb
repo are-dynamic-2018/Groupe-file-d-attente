{
 "cells": [
  {
   "cell_type": "markdown",
   "metadata": {},
   "source": [
    "## Variables "
   ]
  },
  {
   "cell_type": "code",
   "execution_count": 133,
   "metadata": {
    "collapsed": false
   },
   "outputs": [
    {
     "data": {
      "text/plain": [
       "\"probNouvClient = #La probabilité de l'arrivée d'un client dans la file d'attente \\nprobPerturbation = #La probabilité d'une perturbation a la caisse (Exemples : oubli de code de carte bleue,...)\\nclient\""
      ]
     },
     "execution_count": 133,
     "metadata": {},
     "output_type": "execute_result"
    }
   ],
   "source": [
    "nbClientMax = 30#le nombre maximum de client total (dans la file d'attente et a la caisse)\n",
    "nbService = 5 #Le nombre de caisse\n",
    "tailleFile = nbClientMax - nbService\n",
    "TempsService = 20 #Le temps passé par chaque service pour encaisser 1 article (en seconde)\n",
    "tempsClient = 30 #Le temps passé par chaque client pour déposer et récupérer 1 article\n",
    "nbArticleMax = 10#Le nombre d'article maximum par client\n",
    "nbArticleMin = 1 #Le nombre d'article minimum par client\n",
    "tailleMatrice = 10\n",
    "\"\"\"probNouvClient = #La probabilité de l'arrivée d'un client dans la file d'attente \n",
    "probPerturbation = #La probabilité d'une perturbation a la caisse (Exemples : oubli de code de carte bleue,...)\n",
    "client\"\"\""
   ]
  },
  {
   "cell_type": "markdown",
   "metadata": {},
   "source": [
    "## Le code"
   ]
  },
  {
   "cell_type": "code",
   "execution_count": 134,
   "metadata": {
    "collapsed": true
   },
   "outputs": [],
   "source": [
    "import numpy as np\n",
    "import matplotlib.pyplot as plt"
   ]
  },
  {
   "cell_type": "code",
   "execution_count": 222,
   "metadata": {
    "collapsed": false
   },
   "outputs": [
    {
     "data": {
      "text/plain": [
       "array([[1, 1, 1, 1, 1, 1, 1, 1, 1, 1],\n",
       "       [1, 1, 1, 1, 1, 1, 1, 1, 1, 1],\n",
       "       [1, 1, 1, 1, 1, 1, 1, 1, 1, 1],\n",
       "       [1, 1, 1, 1, 1, 1, 1, 1, 1, 1],\n",
       "       [1, 1, 1, 1, 1, 1, 1, 1, 1, 1],\n",
       "       [1, 1, 1, 1, 1, 1, 1, 1, 1, 1],\n",
       "       [1, 1, 1, 1, 1, 1, 1, 1, 1, 1],\n",
       "       [1, 1, 1, 1, 1, 1, 1, 1, 1, 1],\n",
       "       [1, 1, 1, 1, 1, 1, 1, 1, 1, 1],\n",
       "       [1, 1, 1, 1, 1, 1, 1, 1, 1, 1]])"
      ]
     },
     "execution_count": 222,
     "metadata": {},
     "output_type": "execute_result"
    }
   ],
   "source": [
    "#initialisation matrice de zeros\n",
    "matrice_test = np.ones((tailleMatrice,tailleMatrice), dtype=int)\n",
    "matrice_test\n",
    "\n"
   ]
  },
  {
   "cell_type": "code",
   "execution_count": 229,
   "metadata": {
    "collapsed": false
   },
   "outputs": [],
   "source": [
    "def initWalls(matrice,tMatrice):\n",
    "    \n",
    "    b_test = True\n",
    "    \n",
    "    for i in range(tMatrice):\n",
    "        for j in range(tMatrice):\n",
    "            \n",
    "            if(i>tMatrice-3):\n",
    "                matrice[i][j] = 0\n",
    "            \n",
    "            elif(i%2==0 or i>tMatrice-3):\n",
    "                \n",
    "                if b_test:\n",
    "                    matrice[i][j] = 0\n",
    "                \n",
    "            \n",
    "            elif((i%4 == 1 and j==0) or (i%4 == 3 and j==tMatrice-1)):\n",
    "                \n",
    "                if b_test:\n",
    "                    matrice[i][j] = 0\n",
    "                    \n",
    "            b_test = !b_test\n",
    "    return matrice"
   ]
  },
  {
   "cell_type": "code",
   "execution_count": 230,
   "metadata": {
    "collapsed": false
   },
   "outputs": [],
   "source": [
    "def initCaisse(matrice,taille,nombreService):\n",
    "    \n",
    "    compteur = 0\n",
    "    \n",
    "    while(compteur<nombreService*2 and compteur < taille):\n",
    "        \n",
    "        matrice[taille-1][taille-1-compteur] = 3\n",
    "        compteur += 2\n",
    "    \n",
    "    return matrice\n",
    "    "
   ]
  },
  {
   "cell_type": "code",
   "execution_count": 231,
   "metadata": {
    "collapsed": true
   },
   "outputs": [],
   "source": [
    "def init_ligne_av_Caisse(matrice,taille):\n",
    "    for i in range(taille-2,-1,-2):\n",
    "        matrice[taille-2][i] = 12\n",
    "    return matrice"
   ]
  },
  {
   "cell_type": "code",
   "execution_count": 232,
   "metadata": {
    "collapsed": true
   },
   "outputs": [],
   "source": [
    "def init_case_etat(matrice,taille):\n",
    "    \n",
    "    b_test = False\n",
    "    \n",
    "    "
   ]
  },
  {
   "cell_type": "code",
   "execution_count": 233,
   "metadata": {
    "collapsed": false
   },
   "outputs": [
    {
     "data": {
      "text/plain": [
       "array([[ 0,  0,  0,  0,  0,  0,  0,  0,  0,  0],\n",
       "       [ 0,  1,  1,  1,  1,  1,  1,  1,  1,  1],\n",
       "       [ 0,  0,  0,  0,  0,  0,  0,  0,  0,  0],\n",
       "       [ 1,  1,  1,  1,  1,  1,  1,  1,  1,  0],\n",
       "       [ 0,  0,  0,  0,  0,  0,  0,  0,  0,  0],\n",
       "       [ 0,  1,  1,  1,  1,  1,  1,  1,  1,  1],\n",
       "       [ 0,  0,  0,  0,  0,  0,  0,  0,  0,  0],\n",
       "       [ 1,  1,  1,  1,  1,  1,  1,  1,  1,  0],\n",
       "       [12,  0, 12,  0, 12,  0, 12,  0, 12,  0],\n",
       "       [ 0,  3,  0,  3,  0,  3,  0,  3,  0,  3]])"
      ]
     },
     "execution_count": 233,
     "metadata": {},
     "output_type": "execute_result"
    }
   ],
   "source": [
    "matrice_test = np.ones((tailleMatrice,tailleMatrice), dtype=int)\n",
    "initWalls(matrice_test,tailleMatrice)\n",
    "initCaisse(matrice_test,tailleMatrice,nbService)\n",
    "init_ligne_av_Caisse(matrice_test,tailleMatrice)"
   ]
  },
  {
   "cell_type": "code",
   "execution_count": null,
   "metadata": {
    "collapsed": true
   },
   "outputs": [],
   "source": []
  },
  {
   "cell_type": "code",
   "execution_count": null,
   "metadata": {
    "collapsed": true
   },
   "outputs": [],
   "source": []
  },
  {
   "cell_type": "code",
   "execution_count": null,
   "metadata": {
    "collapsed": true
   },
   "outputs": [],
   "source": []
  },
  {
   "cell_type": "code",
   "execution_count": null,
   "metadata": {
    "collapsed": true
   },
   "outputs": [],
   "source": []
  },
  {
   "cell_type": "code",
   "execution_count": null,
   "metadata": {
    "collapsed": true
   },
   "outputs": [],
   "source": []
  }
 ],
 "metadata": {
  "kernelspec": {
   "display_name": "Python 3",
   "language": "python",
   "name": "python3"
  },
  "language_info": {
   "codemirror_mode": {
    "name": "ipython",
    "version": 3
   },
   "file_extension": ".py",
   "mimetype": "text/x-python",
   "name": "python",
   "nbconvert_exporter": "python",
   "pygments_lexer": "ipython3",
   "version": "3.4.2"
  }
 },
 "nbformat": 4,
 "nbformat_minor": 0
}
