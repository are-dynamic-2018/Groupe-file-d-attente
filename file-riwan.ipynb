{
 "cells": [
  {
   "cell_type": "markdown",
   "metadata": {},
   "source": [
    "# ARE DYNAMIC\n",
    "## LES FILES D'ATTENTE"
   ]
  },
  {
   "cell_type": "markdown",
   "metadata": {},
   "source": [
    "Le but de nôtre projet est d'étudier d'un point de vue dynamique les différents types de files d'attente. Nous allons donc séléctionner 2 à 3 types de files d'attente afin de déterminer les paramètres qui influe sur le temps total passé par un client dans celle-ci (file d'attente et caisse)."
   ]
  },
  {
   "cell_type": "markdown",
   "metadata": {},
   "source": [
    "### 1 - Les files d'attente unique à caisse multiples"
   ]
  },
  {
   "cell_type": "markdown",
   "metadata": {},
   "source": [
    "Dans un premier temps nous avons décidé de se pencher sur un type bien particulier qui consiste en une file d'attente unique menant à différentes caisses (i.e. chaque client se dirige vers une caisse lorsque celle-ci est libre).\n",
    "\n",
    "Les paramètres :\n",
    "\n",
    "    - Le nombre total de client = nombre de client dans la file + nombre de client en caisse\n",
    "    - Le nombre de caisse\n",
    "    - Le temps passé par chaque caissière pour encaisser 1 article\n",
    "    - Le temps passé par chaque client pour déposer et récupérer 1 article\n",
    "    - Le nombre d'article par client\n",
    "    - La probabilité de l'arrivée d'un client dans la file d'attente \n",
    "    - La probabilité d'une perturbation (Exemples : oubli de code de carte bleue,...)\n",
    "\n",
    "\n"
   ]
  },
  {
   "cell_type": "markdown",
   "metadata": {
    "collapsed": true
   },
   "source": [
    "Des modifications"
   ]
  }
 ],
 "metadata": {
  "kernelspec": {
   "display_name": "Python 3",
   "language": "python",
   "name": "python3"
  },
  "language_info": {
   "codemirror_mode": {
    "name": "ipython",
    "version": 3
   },
   "file_extension": ".py",
   "mimetype": "text/x-python",
   "name": "python",
   "nbconvert_exporter": "python",
   "pygments_lexer": "ipython3",
   "version": "3.4.2"
  }
 },
 "nbformat": 4,
 "nbformat_minor": 0
}
