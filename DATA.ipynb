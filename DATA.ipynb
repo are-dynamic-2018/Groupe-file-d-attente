{
 "cells": [
  {
   "cell_type": "code",
   "execution_count": 6,
   "metadata": {},
   "outputs": [],
   "source": [
    "%matplotlib inline\n",
    "import numpy as np\n",
    "import matplotlib.pyplot as plt\n",
    "%load_ext autoreload\n",
    "%autoreload 2"
   ]
  },
  {
   "cell_type": "code",
   "execution_count": 74,
   "metadata": {},
   "outputs": [],
   "source": [
    "def dissocierList(L,j):\n",
    "    \n",
    "    res = []\n",
    "    \n",
    "    for i in range(len(L)):\n",
    "        res.append(L[i][j])\n",
    "    \n",
    "    return res"
   ]
  },
  {
   "cell_type": "code",
   "execution_count": 75,
   "metadata": {},
   "outputs": [],
   "source": [
    "def addProcess_2S(tmax=300, lama=30, l_lamd=[30], l_nbPers=[0]):\n",
    "    \n",
    "    lTmps = [0]\n",
    "    t = 0.0  # temps du derniere evenement\n",
    "    assert len(l_lamd) == len(l_nbPers)\n",
    "    nbService = len(l_lamd)\n",
    "    # None represente une valeur a definir dans la boucle\n",
    "    dta = None  # delta inter arrivee\n",
    "    dtd = nbService * [None]  # deltas inter departs\n",
    "    cpt = l_nbPers \n",
    "    cpt_T = [np.copy(cpt)]  # liste qui accumule les etats des files d'attente a chaque evenement \n",
    "        \n",
    "    while True:\n",
    "\n",
    "        # dtdMin = np.argmin(dtd)\n",
    "        # cptMin = np.argmin(cpt)\n",
    "        \n",
    "        if dta is None:\n",
    "            # la prochaine arrivee n'est pas definie, on la redefinie \n",
    "            dta = np.random.exponential(lama)\n",
    "            \n",
    "        for i in range(nbService):\n",
    "            if dtd[i] is None and cpt[i] > 0:\n",
    "                # le prochain depart n'est definie pour cette file, on le redefini\n",
    "                dtd[i] = np.random.exponential(l_lamd[i])\n",
    "        \n",
    "        # on recherche le delta le plus proche dans le temps\n",
    "        dtdMin = np.inf\n",
    "        imin = None\n",
    "        for i in range(nbService):\n",
    "            if dtd[i] is not None and dtdMin > dtd[i]:\n",
    "                dtdMin = dtd[i]\n",
    "                imin = i\n",
    "            \n",
    "        if imin is not None:\n",
    "            # cas ou l'arrivee est en concurence avec les departs\n",
    "            if dtd[imin] > dta:\n",
    "                #l'arrivee se produit avant les desparts\n",
    "                cptMin = np.inf\n",
    "                cpt_i = None\n",
    "                t += dta\n",
    "                for i in range(nbService):\n",
    "                    if dtd[i] is not None:\n",
    "                        dtd[i] -= dta\n",
    "                    if cpt[i] < cptMin:\n",
    "                        cptMin = cpt[i]\n",
    "                        cpt_i = i   \n",
    "                cpt[cpt_i] += 1\n",
    "                dta = None          \n",
    "            else:\n",
    "                # le depart le plus proche se produit avant la prochaine arrivee\n",
    "                t += dtd[imin]\n",
    "                dta -= dtd[imin]\n",
    "                for i in range(nbService):\n",
    "                    if dtd[i] is not None:\n",
    "                        dtd[i] -= dtd[imin]\n",
    "                dtd[imin] = None\n",
    "                cpt[imin] -= 1\n",
    "        \n",
    "        else:\n",
    "            #cas ou l'arrivee est la seul possibilitee\n",
    "            t += dta\n",
    "            k = np.random.randint(nbService)  # choix d'une file au hasard\n",
    "            cpt[k] += 1\n",
    "            dta = None  \n",
    "            \n",
    "        #verification de si on ne depasse pas les bornes de la simulation\n",
    "        if t > tmax:\n",
    "            break\n",
    "\n",
    "        lTmps.append(t)\n",
    "        cpt_T.append(np.copy(cpt))\n",
    "        \n",
    "    return lTmps,cpt_T  "
   ]
  },
  {
   "cell_type": "code",
   "execution_count": 166,
   "metadata": {},
   "outputs": [],
   "source": [
    "def g_Max(lla,lld,tmax):\n",
    "    \n",
    "    par = []\n",
    "    Lt = []\n",
    "    Lcpt = []\n",
    "    nbMax = []\n",
    "    compteur = 0\n",
    "    \n",
    "    for i in range(len(lla)):\n",
    "        for j in range(len(lld)):\n",
    "            par.append([lla[i],lld[j]])\n",
    "            tmp_t,tmp_cpt = addProcess_2S(tmax, lla[i], [lld[j]], [0])\n",
    "            Lcpt.append(dissocierList(tmp_cpt,0))\n",
    "            Lt.append(tmp_t)\n",
    "            nbMax.append(max(Lcpt[compteur]))\n",
    "            compteur += 1;\n",
    "            \n",
    "    return par,nbMax"
   ]
  },
  {
   "cell_type": "code",
   "execution_count": 174,
   "metadata": {},
   "outputs": [],
   "source": [
    "def g_ParaMax(param, lMax):\n",
    "    \n",
    "    a = np.argmax(lMax)\n",
    "    \n",
    "    return param[a]"
   ]
  },
  {
   "cell_type": "code",
   "execution_count": 150,
   "metadata": {},
   "outputs": [],
   "source": [
    "def g_OverThreshold(param,nbMax,tH):\n",
    "    \n",
    "    lParam = []\n",
    "    overTh = []\n",
    "    \n",
    "    for i in range(len(param)):\n",
    "        if nbMax[i] >= tH:\n",
    "            lParam.append(param[i])\n",
    "            overTh.append(nbMax[i])\n",
    "            \n",
    "    \n",
    "    return lParam,overTh"
   ]
  },
  {
   "cell_type": "code",
   "execution_count": 160,
   "metadata": {},
   "outputs": [],
   "source": [
    "def g_TimeOverThreshold(lt,l_cpt,th):\n",
    "    \n",
    "    for i in range(len(lt)):\n",
    "        if max(l_cpt[i]) >= th:\n",
    "            return lt[i]\n",
    "        \n",
    "    return None"
   ]
  },
  {
   "cell_type": "code",
   "execution_count": 179,
   "metadata": {},
   "outputs": [],
   "source": [
    "def test(param):\n",
    "    \n",
    "    res = []\n",
    "    \n",
    "    for i in param:\n",
    "        res.append(i[0]-i[1])\n",
    "\n",
    "    return res"
   ]
  },
  {
   "cell_type": "code",
   "execution_count": 210,
   "metadata": {},
   "outputs": [],
   "source": [
    "def g_Average(L_cpt):\n",
    "    \n",
    "    somme = (len(L_cpt[0]))*[0.0]\n",
    "    \n",
    "    for i in range(len(L_cpt[0])):\n",
    "        l = dissocierList(L_cpt,i)\n",
    "        for j in l:\n",
    "            somme[i] += j;\n",
    "        somme[i] = somme[i]/len(l)\n",
    "    \n",
    "    return somme"
   ]
  },
  {
   "cell_type": "code",
   "execution_count": 212,
   "metadata": {},
   "outputs": [],
   "source": [
    "def multiAddProcess():\n",
    "    "
   ]
  },
  {
   "cell_type": "code",
   "execution_count": 213,
   "metadata": {},
   "outputs": [],
   "source": [
    "#variables\n",
    "lam_a = 10\n",
    "lam_d = [20,20,20]\n",
    "cpt = [0,0,0]\n",
    "tmax = 300  # 300 pour 5 minutes de simulation\n",
    "\n",
    "#Pour la collection de données\n",
    "l_lama = [30,27,25,40,20]\n",
    "l_lamd = [30,29,28,35,36]\n",
    "th = 20  # treshold"
   ]
  },
  {
   "cell_type": "code",
   "execution_count": 217,
   "metadata": {},
   "outputs": [],
   "source": [
    "param,nbMax = g_Max(l_lama,l_lamd,3600)\n",
    "ltmp,lcpt = addProcess_2S(tmax,lam_a, lam_d, cpt)\n",
    "moy_files = g_Average(lcpt)\n",
    "paramMax = g_ParaMax(param,nbMax)\n",
    "l_paramOT,l_nbMaxOT = g_OverThreshold(param,nbMax,th)\n",
    "time_OT = g_TimeOverThreshold  # temps a partir du quel au moin une file a depassée la valeur th\n",
    "ecart_lambda = test(param)  # list des ecart entre lambda dep et lambda arr (0 -> lamda egaux, >0 -> lambda_a > lambda_b, <0 -> inverse)"
   ]
  },
  {
   "cell_type": "code",
   "execution_count": 218,
   "metadata": {},
   "outputs": [
    {
     "data": {
      "text/plain": [
       "[0.8653846153846154, 0.8461538461538461, 0.7115384615384616]"
      ]
     },
     "execution_count": 218,
     "metadata": {},
     "output_type": "execute_result"
    }
   ],
   "source": [
    "moy_files"
   ]
  },
  {
   "cell_type": "code",
   "execution_count": null,
   "metadata": {},
   "outputs": [],
   "source": []
  }
 ],
 "metadata": {
  "kernelspec": {
   "display_name": "Python 2",
   "language": "python",
   "name": "python2"
  },
  "language_info": {
   "codemirror_mode": {
    "name": "ipython",
    "version": 2
   },
   "file_extension": ".py",
   "mimetype": "text/x-python",
   "name": "python",
   "nbconvert_exporter": "python",
   "pygments_lexer": "ipython2",
   "version": "2.7.12"
  }
 },
 "nbformat": 4,
 "nbformat_minor": 2
}
